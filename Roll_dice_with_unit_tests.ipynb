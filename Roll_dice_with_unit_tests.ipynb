{
  "nbformat": 4,
  "nbformat_minor": 0,
  "metadata": {
    "colab": {
      "provenance": [],
      "authorship_tag": "ABX9TyPyNQxMjhuzYjc+lHWlvQmh",
      "include_colab_link": true
    },
    "kernelspec": {
      "name": "python3",
      "display_name": "Python 3"
    },
    "language_info": {
      "name": "python"
    }
  },
  "cells": [
    {
      "cell_type": "markdown",
      "metadata": {
        "id": "view-in-github",
        "colab_type": "text"
      },
      "source": [
        "<a href=\"https://colab.research.google.com/github/VictoriaJPirillo/CodeGen/blob/main/Roll_dice_with_unit_tests.ipynb\" target=\"_parent\"><img src=\"https://colab.research.google.com/assets/colab-badge.svg\" alt=\"Open In Colab\"/></a>"
      ]
    },
    {
      "cell_type": "code",
      "source": [
        "import random\n",
        "\n",
        "def roll_dice():\n",
        "    \"\"\"\n",
        "    This function simulates the roll of two six-sided dice until both dice show a six.\n",
        "    It counts and displays the number of rolls it took to get double sixes.\n",
        "    \"\"\"\n",
        "    count = 0\n",
        "    while True:\n",
        "        # Generate a random number between 1 and 6 for each dice\n",
        "        dice1 = random.randint(1, 6)\n",
        "        dice2 = random.randint(1, 6)\n",
        "\n",
        "        # Increment the count of rolls\n",
        "        count += 1\n",
        "\n",
        "        print(f\"Dice-1 got: {dice1}\")\n",
        "        print(f\"Dice-2 got: {dice2}\")\n",
        "\n",
        "        # Check if both dice show a six\n",
        "        if dice1 == 6 and dice2 == 6:\n",
        "            break\n",
        "\n",
        "    print(f\"It took {count} rolls to get double sixes.\")\n",
        "\n",
        "# Call the function\n",
        "roll_dice()\n"
      ],
      "metadata": {
        "colab": {
          "base_uri": "https://localhost:8080/"
        },
        "id": "-TmFLusR-EJJ",
        "outputId": "81b1245a-4ed4-48d3-a7ec-2622f78f977f"
      },
      "execution_count": 13,
      "outputs": [
        {
          "output_type": "stream",
          "name": "stdout",
          "text": [
            "Dice-1 got: 1\n",
            "Dice-2 got: 4\n",
            "Dice-1 got: 4\n",
            "Dice-2 got: 2\n",
            "Dice-1 got: 6\n",
            "Dice-2 got: 3\n",
            "Dice-1 got: 5\n",
            "Dice-2 got: 5\n",
            "Dice-1 got: 5\n",
            "Dice-2 got: 3\n",
            "Dice-1 got: 4\n",
            "Dice-2 got: 4\n",
            "Dice-1 got: 5\n",
            "Dice-2 got: 6\n",
            "Dice-1 got: 5\n",
            "Dice-2 got: 1\n",
            "Dice-1 got: 2\n",
            "Dice-2 got: 3\n",
            "Dice-1 got: 4\n",
            "Dice-2 got: 6\n",
            "Dice-1 got: 4\n",
            "Dice-2 got: 1\n",
            "Dice-1 got: 4\n",
            "Dice-2 got: 1\n",
            "Dice-1 got: 6\n",
            "Dice-2 got: 5\n",
            "Dice-1 got: 4\n",
            "Dice-2 got: 4\n",
            "Dice-1 got: 5\n",
            "Dice-2 got: 5\n",
            "Dice-1 got: 6\n",
            "Dice-2 got: 2\n",
            "Dice-1 got: 6\n",
            "Dice-2 got: 6\n",
            "It took 17 rolls to get double sixes.\n"
          ]
        }
      ]
    },
    {
      "cell_type": "code",
      "source": [
        "import unittest\n",
        "\n",
        "l = [[\"foo\", \"a\", \"a\",], [\"bar\", \"a\", \"b\"], [\"lee\", \"b\", \"b\"]]\n",
        "\n",
        "class TestSequence(unittest.TestCase):\n",
        "    def testsample(self):\n",
        "        for name, a,b in l:\n",
        "            print (test), name\n",
        "            self.assertEqual(a,b)\n",
        "\n",
        "if __name__ == '__main__':\n",
        "    unittest.main()"
      ],
      "metadata": {
        "colab": {
          "base_uri": "https://localhost:8080/",
          "height": 297
        },
        "id": "ZRnq9vBIEDRs",
        "outputId": "c62dfa04-4ca6-4772-8ea1-822db656542e"
      },
      "execution_count": 26,
      "outputs": [
        {
          "output_type": "stream",
          "name": "stderr",
          "text": [
            "E\n",
            "======================================================================\n",
            "ERROR: /root/ (unittest.loader._FailedTest)\n",
            "----------------------------------------------------------------------\n",
            "AttributeError: module '__main__' has no attribute '/root/'\n",
            "\n",
            "----------------------------------------------------------------------\n",
            "Ran 1 test in 0.003s\n",
            "\n",
            "FAILED (errors=1)\n"
          ]
        },
        {
          "output_type": "error",
          "ename": "SystemExit",
          "evalue": "True",
          "traceback": [
            "An exception has occurred, use %tb to see the full traceback.\n",
            "\u001b[0;31mSystemExit\u001b[0m\u001b[0;31m:\u001b[0m True\n"
          ]
        },
        {
          "output_type": "stream",
          "name": "stderr",
          "text": [
            "/usr/local/lib/python3.10/dist-packages/IPython/core/interactiveshell.py:3561: UserWarning: To exit: use 'exit', 'quit', or Ctrl-D.\n",
            "  warn(\"To exit: use 'exit', 'quit', or Ctrl-D.\", stacklevel=1)\n"
          ]
        }
      ]
    },
    {
      "source": [
        "import unittest\n",
        "\n",
        "l = [[\"foo\", \"a\", \"a\"], [\"bar\", \"a\", \"b\"], [\"lee\", \"b\", \"b\"]]\n",
        "\n",
        "class TestSequence(unittest.TestCase):\n",
        "    def testsample(self):\n",
        "        for name, a, b in l:\n",
        "            # Use subTest to identify individual failures within the loop\n",
        "            with self.subTest(name=name):\n",
        "                print(\"test\", name)  # Corrected print statement\n",
        "                self.assertEqual(a, b, f\"Assertion failed for {name}: {a} != {b}\")\n",
        "                # Added a custom message to the assertEqual for better debugging\n",
        "\n",
        "if __name__ == '__main__':\n",
        "    unittest.main(argv=['first-arg-is-ignored'], exit=False) # exit=False to prevent SystemExit"
      ],
      "cell_type": "code",
      "metadata": {
        "colab": {
          "base_uri": "https://localhost:8080/"
        },
        "id": "lPU8XbAZHFXp",
        "outputId": "126e69d7-2dae-47ae-df99-a0eed1bb98e7"
      },
      "execution_count": 25,
      "outputs": [
        {
          "output_type": "stream",
          "name": "stderr",
          "text": [
            "\n",
            "======================================================================\n",
            "FAIL: testsample (__main__.TestSequence) (name='bar')\n",
            "----------------------------------------------------------------------\n",
            "Traceback (most recent call last):\n",
            "  File \"<ipython-input-25-3bd369668d02>\", line 11, in testsample\n",
            "    self.assertEqual(a, b, f\"Assertion failed for {name}: {a} != {b}\")\n",
            "AssertionError: 'a' != 'b'\n",
            "- a\n",
            "+ b\n",
            " : Assertion failed for bar: a != b\n",
            "\n",
            "----------------------------------------------------------------------\n",
            "Ran 1 test in 0.001s\n",
            "\n",
            "FAILED (failures=1)\n"
          ]
        },
        {
          "output_type": "stream",
          "name": "stdout",
          "text": [
            "test foo\n",
            "test bar\n",
            "test lee\n"
          ]
        }
      ]
    },
    {
      "cell_type": "code",
      "source": [
        "def popitem(self):\n",
        "    number = self.keys_list[random.randint(0, len(self.keys_list))]\n",
        "    i = 0\n",
        "    while i < len(self.values_list):\n",
        "        if i == number:\n",
        "            needed_key = self.keys_list[i]\n",
        "            needed_value = self.values_list[i]\n",
        "            self.keys_list.remove(needed_key)\n",
        "            self.values_list.remove(needed_value)\n",
        "            return (needed_key, needed_value)\n",
        ""
      ],
      "metadata": {
        "id": "FBUvj1hJ_O_P"
      },
      "execution_count": 14,
      "outputs": []
    },
    {
      "cell_type": "code",
      "source": [
        "from parameterized import parameterized\n",
        "\n",
        "class TestSequence(unittest.TestCase):\n",
        "    @parameterized.expand([\n",
        "        [\"foo\", \"a\", \"a\",],\n",
        "        [\"bar\", \"a\", \"b\"],\n",
        "        [\"lee\", \"b\", \"b\"],\n",
        "    ])\n",
        "    def test_sequence(self, name, a, b):\n",
        "        self.assertEqual(a,b)"
      ],
      "metadata": {
        "colab": {
          "base_uri": "https://localhost:8080/",
          "height": 383
        },
        "id": "2UY4klpOHb5u",
        "outputId": "6076b71d-9054-4785-ff28-6762ccc48f74"
      },
      "execution_count": 27,
      "outputs": [
        {
          "output_type": "error",
          "ename": "ModuleNotFoundError",
          "evalue": "No module named 'parameterized'",
          "traceback": [
            "\u001b[0;31m---------------------------------------------------------------------------\u001b[0m",
            "\u001b[0;31mModuleNotFoundError\u001b[0m                       Traceback (most recent call last)",
            "\u001b[0;32m<ipython-input-27-a35b270dd6fd>\u001b[0m in \u001b[0;36m<cell line: 1>\u001b[0;34m()\u001b[0m\n\u001b[0;32m----> 1\u001b[0;31m \u001b[0;32mfrom\u001b[0m \u001b[0mparameterized\u001b[0m \u001b[0;32mimport\u001b[0m \u001b[0mparameterized\u001b[0m\u001b[0;34m\u001b[0m\u001b[0;34m\u001b[0m\u001b[0m\n\u001b[0m\u001b[1;32m      2\u001b[0m \u001b[0;34m\u001b[0m\u001b[0m\n\u001b[1;32m      3\u001b[0m \u001b[0;32mclass\u001b[0m \u001b[0mTestSequence\u001b[0m\u001b[0;34m(\u001b[0m\u001b[0munittest\u001b[0m\u001b[0;34m.\u001b[0m\u001b[0mTestCase\u001b[0m\u001b[0;34m)\u001b[0m\u001b[0;34m:\u001b[0m\u001b[0;34m\u001b[0m\u001b[0;34m\u001b[0m\u001b[0m\n\u001b[1;32m      4\u001b[0m     @parameterized.expand([\n\u001b[1;32m      5\u001b[0m         \u001b[0;34m[\u001b[0m\u001b[0;34m\"foo\"\u001b[0m\u001b[0;34m,\u001b[0m \u001b[0;34m\"a\"\u001b[0m\u001b[0;34m,\u001b[0m \u001b[0;34m\"a\"\u001b[0m\u001b[0;34m,\u001b[0m\u001b[0;34m]\u001b[0m\u001b[0;34m,\u001b[0m\u001b[0;34m\u001b[0m\u001b[0;34m\u001b[0m\u001b[0m\n",
            "\u001b[0;31mModuleNotFoundError\u001b[0m: No module named 'parameterized'",
            "",
            "\u001b[0;31m---------------------------------------------------------------------------\u001b[0;32m\nNOTE: If your import is failing due to a missing package, you can\nmanually install dependencies using either !pip or !apt.\n\nTo view examples of installing some common dependencies, click the\n\"Open Examples\" button below.\n\u001b[0;31m---------------------------------------------------------------------------\u001b[0m\n"
          ],
          "errorDetails": {
            "actions": [
              {
                "action": "open_url",
                "actionText": "Open Examples",
                "url": "/notebooks/snippets/importing_libraries.ipynb"
              }
            ]
          }
        }
      ]
    },
    {
      "cell_type": "code",
      "source": [
        "import unittest\n",
        "import random\n",
        "\n",
        "# Here's your popitem function (assuming it's in a class called 'MyDict')\n",
        "class MyDict:\n",
        "    def __init__(self, keys, values):\n",
        "        self.keys_list = keys\n",
        "        self.values_list = values\n",
        "\n",
        "    def popitem(self):\n",
        "        number = self.keys_list[random.randint(0, len(self.keys_list) -1 )]  # Fixed potential index error\n",
        "        i = 0\n",
        "        while i < len(self.values_list):\n",
        "            if self.keys_list[i] == number:  # Corrected the comparison\n",
        "                needed_key = self.keys_list[i]\n",
        "                needed_value = self.values_list[i]\n",
        "                self.keys_list.remove(needed_key)\n",
        ""
      ],
      "metadata": {
        "id": "6ipBUxLk_k02"
      },
      "execution_count": 15,
      "outputs": []
    },
    {
      "cell_type": "code",
      "source": [
        "def popitem(self):\n",
        "    number = self.keys_list[random.randint(0, len(self.keys_list))]\n",
        "    return self._popitem(number)\n",
        "\n",
        "def _popitem(self, number):\n",
        "    i = 0\n",
        "    ..."
      ],
      "metadata": {
        "id": "tpyAh0VnAnr_"
      },
      "execution_count": 16,
      "outputs": []
    },
    {
      "cell_type": "code",
      "source": [
        "def _popitem(self, number):\n",
        "    i = self.keys_list.index(number)\n",
        "    return (\n",
        "        self.keys_list.pop(i),\n",
        "        self.values_list.pop(i),\n",
        "    )"
      ],
      "metadata": {
        "id": "aDyBjfYhAvIF"
      },
      "execution_count": 17,
      "outputs": []
    }
  ]
}